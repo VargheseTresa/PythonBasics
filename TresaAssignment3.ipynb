{
 "cells": [
  {
   "cell_type": "markdown",
   "metadata": {},
   "source": [
    "<h2 align=\"center\"> Assignment 3 <h2>\n",
    "<h4 align=\"right\">Submitted by </h4>\n",
    "<h5 align=\"right\">Tresa Varghese </h5>"
   ]
  },
  {
   "cell_type": "markdown",
   "metadata": {},
   "source": [
    "<b> Qn 1.1 Write a Python Program to implement your own myreduce() function which works exactly\n",
    "like Python's built-in function reduce() </b>"
   ]
  },
  {
   "cell_type": "code",
   "execution_count": null,
   "metadata": {},
   "outputs": [],
   "source": [
    "# myreduce() definition\n",
    "\n",
    "def myreduce(funcName,sequence):\n",
    "    iterable = iter(sequence)\n",
    "    result = next(iterable)\n",
    "    for i in iterable:\n",
    "        result = funcName(result,i)\n",
    "    return result"
   ]
  },
  {
   "cell_type": "code",
   "execution_count": 24,
   "metadata": {},
   "outputs": [
    {
     "data": {
      "text/plain": [
       "19"
      ]
     },
     "execution_count": 24,
     "metadata": {},
     "output_type": "execute_result"
    }
   ],
   "source": [
    "#func test with integer data and lambda function\n",
    "from functools import reduce\n",
    "list1 = [3,5,3,5,3]\n",
    "myreduce(lambda x,y:x+y,list1)"
   ]
  },
  {
   "cell_type": "code",
   "execution_count": 25,
   "metadata": {},
   "outputs": [
    {
     "data": {
      "text/plain": [
       "5"
      ]
     },
     "execution_count": 25,
     "metadata": {},
     "output_type": "execute_result"
    }
   ],
   "source": [
    "myreduce(lambda x,y:x if x>y else y,list1)"
   ]
  },
  {
   "cell_type": "code",
   "execution_count": 26,
   "metadata": {},
   "outputs": [
    {
     "data": {
      "text/plain": [
       "8"
      ]
     },
     "execution_count": 26,
     "metadata": {},
     "output_type": "execute_result"
    }
   ],
   "source": [
    "# test with userdefined function\n",
    "list1 = [3,5,3,8,3]\n",
    "def max(a,b):\n",
    "    if(a>b):\n",
    "        return a\n",
    "    else:\n",
    "        return b\n",
    "myreduce(max,list1)\n"
   ]
  },
  {
   "cell_type": "code",
   "execution_count": 27,
   "metadata": {},
   "outputs": [
    {
     "data": {
      "text/plain": [
       "'TresaMaryGeorgeVarghese'"
      ]
     },
     "execution_count": 27,
     "metadata": {},
     "output_type": "execute_result"
    }
   ],
   "source": [
    "# test with string\n",
    "list2 = [\"Tresa\",\"Mary\",\"George\",\"Varghese\"]\n",
    "myreduce(lambda x,y:x+y,list2)"
   ]
  },
  {
   "cell_type": "markdown",
   "metadata": {},
   "source": [
    "<b> Qn 1.2. Write a Python program to implement your own myfilter() function which works exactly\n",
    "like Python's built-in function filter() </b>"
   ]
  },
  {
   "cell_type": "code",
   "execution_count": 40,
   "metadata": {},
   "outputs": [
    {
     "data": {
      "text/plain": [
       "[44, 34, 68]"
      ]
     },
     "execution_count": 40,
     "metadata": {},
     "output_type": "execute_result"
    }
   ],
   "source": [
    "# using built-in filter\n",
    "numList = [3,55,33,44,34,55,68]\n",
    "list(filter(lambda x:True if x%2==0 else False,numList))"
   ]
  },
  {
   "cell_type": "code",
   "execution_count": 34,
   "metadata": {},
   "outputs": [],
   "source": [
    "#myfilter() definition\n",
    "def myfilter(func,sequence):\n",
    "    iterable = iter(sequence)\n",
    "    for i in iterable:\n",
    "        if func(i):\n",
    "            yield i\n",
    "    "
   ]
  },
  {
   "cell_type": "code",
   "execution_count": 39,
   "metadata": {},
   "outputs": [
    {
     "data": {
      "text/plain": [
       "[44, 34, 68]"
      ]
     },
     "execution_count": 39,
     "metadata": {},
     "output_type": "execute_result"
    }
   ],
   "source": [
    "#test myfilter() using lambda on int list\n",
    "numList = [3,55,33,44,34,55,68]\n",
    "list(myfilter(lambda x:True if x%2==0 else False,numList))"
   ]
  },
  {
   "cell_type": "code",
   "execution_count": 65,
   "metadata": {},
   "outputs": [
    {
     "data": {
      "text/plain": [
       "[55, 23]"
      ]
     },
     "execution_count": 65,
     "metadata": {},
     "output_type": "execute_result"
    }
   ],
   "source": [
    "#test myfilter() using a function\n",
    "import math\n",
    "\n",
    "numList = [3,55,33,44,34,23,68]\n",
    "def checkPrime(num):\n",
    "    if num%2==0 and num>2:\n",
    "        return False\n",
    "    for i in range(3,int(math.sqrt(num))+1,2):\n",
    "        if(num%i==0):\n",
    "            return False\n",
    "        else:\n",
    "            return True\n",
    "list(myfilter(checkPrime,numList))     "
   ]
  },
  {
   "cell_type": "code",
   "execution_count": 66,
   "metadata": {},
   "outputs": [
    {
     "data": {
      "text/plain": [
       "['strawberry', 'blueberry', 'raspberry']"
      ]
     },
     "execution_count": 66,
     "metadata": {},
     "output_type": "execute_result"
    }
   ],
   "source": [
    "#testing of myfilter() with string input\n",
    "strList = ['apple','strawberry','oranges','blueberry','pineapple','raspberry']\n",
    "list(myfilter(lambda x:True if 'berry' in x else False,strList))"
   ]
  },
  {
   "cell_type": "markdown",
   "metadata": {},
   "source": [
    "<b> Qn 2. Write List comprehensions to produce the following Lists </b>\n",
    "\n",
    "<p>['x', 'xx', 'xxx', 'xxxx', 'y', 'yy', 'yyy', 'yyyy', 'z', 'zz', 'zzz', 'zzzz']</p>\n",
    "<p>['x', 'y', 'z', 'xx', 'yy', 'zz', 'xxx', 'yyy', 'zzz', 'xxxx', 'yyyy', 'zzzz']</p>\n",
    "<p>[[2], [3], [4], [3], [4], [5], [4], [5], [6]] [[2, 3, 4, 5], [3, 4, 5, 6],\n",
    "[4, 5, 6, 7], [5, 6, 7, 8]]</p>\n",
    "<p>[(1, 1), (2, 1), (3, 1), (1, 2), (2, 2), (3, 2), (1, 3), (2, 3), (3, 3)]</p>\n"
   ]
  },
  {
   "cell_type": "code",
   "execution_count": 99,
   "metadata": {},
   "outputs": [
    {
     "name": "stdout",
     "output_type": "stream",
     "text": [
      "['x', 'xx', 'xxx', 'xxxx', 'y', 'yy', 'yyy', 'yyyy', 'z', 'zz', 'zzz', 'zzzz']\n",
      "['x', 'y', 'z', 'xx', 'yy', 'zz', 'xxx', 'yyy', 'zzz', 'xxxx', 'yyyy', 'zzzz']\n",
      "[[2], [3], [4], [3], [4], [5], [4], [5], [6]][[2, 3, 4, 5], [3, 4, 5, 6], [4, 5, 6, 7], [5, 6, 7, 8]]\n",
      "[(1, 1), (2, 1), (3, 1), (1, 2), (2, 2), (3, 2), (1, 3), (2, 3), (3, 3)]\n"
     ]
    }
   ],
   "source": [
    "out1 = [i*j for i in ['x','y','z'] for j in range(1,5)]   \n",
    "print(out1)\n",
    "out2 = [i*j for j in range(1,5) for i in ['x','y','z']] \n",
    "print(out2)\n",
    "list1 = [[i+j] for i in range(2,5) for j in range(0,3)]\n",
    "list2 = [[i+j for i in range(0,4)] for j in range(2,6)]\n",
    "print(list1, end='')\n",
    "print(list2)\n",
    "out4 = [(j,i) for i in range(1,4) for j in range(1,4)]\n",
    "print(out4)"
   ]
  }
 ],
 "metadata": {
  "kernelspec": {
   "display_name": "Python 3",
   "language": "python",
   "name": "python3"
  },
  "language_info": {
   "codemirror_mode": {
    "name": "ipython",
    "version": 3
   },
   "file_extension": ".py",
   "mimetype": "text/x-python",
   "name": "python",
   "nbconvert_exporter": "python",
   "pygments_lexer": "ipython3",
   "version": "3.7.6"
  }
 },
 "nbformat": 4,
 "nbformat_minor": 4
}
