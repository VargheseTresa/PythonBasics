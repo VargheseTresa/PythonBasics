{
 "cells": [
  {
   "cell_type": "markdown",
   "metadata": {},
   "source": [
    "<h2 align=\"center\"> Python Assignment 4 <h2>\n",
    "<h4 align=\"right\">Submitted by </h4>\n",
    "<h5 align=\"right\">Tresa Varghese </h5>\n",
    "    "
   ]
  },
  {
   "cell_type": "markdown",
   "metadata": {},
   "source": [
    "<b> <p>1.1 Write a Python Program(with class concepts) to find the area of the triangle using the below\n",
    "formula.</p> </b>\n",
    "<code> area = (s*(s-a)*(s-b)*(s-c)) ** 0.5 </code>\n",
    "<p> Function to take the length of the sides of triangle from user should be defined in the parent\n",
    "class and function to calculate the area should be defined in subclass.</p>"
   ]
  },
  {
   "cell_type": "code",
   "execution_count": 12,
   "metadata": {},
   "outputs": [
    {
     "name": "stdout",
     "output_type": "stream",
     "text": [
      "Enter value of side a : 4\n",
      "Enter value of side b : 5\n",
      "Enter value of side c : 2\n",
      "Area of triangle with given sides =  3.799671038392666\n"
     ]
    }
   ],
   "source": [
    "#Parent class\n",
    "\n",
    "class Triangle:\n",
    "    def __init__(self):\n",
    "        self.a = int(input(\"Enter value of side a : \"))\n",
    "        self.b = int(input(\"Enter value of side b : \"))\n",
    "        self.c = int(input(\"Enter value of side c : \"))\n",
    "        \n",
    "#Child class\n",
    "\n",
    "class Calculation(Triangle):\n",
    "    \"\"\"\"\n",
    "    function to calculate area of triangle\n",
    "    side values are set in parent class\n",
    "    \"\"\"\n",
    "    def calculate(self):\n",
    "        \n",
    "        s = (self.a+self.b+self.c)/2\n",
    "        area = (s*(s-self.a)*(s-self.b)*(s-self.c))**0.5\n",
    "        print(\"Area of triangle with given sides = \", area)\n",
    "        \n",
    "t1 = Calculation()\n",
    "t1.calculate()\n"
   ]
  },
  {
   "cell_type": "markdown",
   "metadata": {},
   "source": [
    "<b> <p>\n",
    "1.2 Write a function filter_long_words() that takes a list of words and an integer n and returns\n",
    "the list of words that are longer than n.</p> </b>\n"
   ]
  },
  {
   "cell_type": "code",
   "execution_count": 17,
   "metadata": {},
   "outputs": [
    {
     "data": {
      "text/plain": [
       "['hello', 'Namaste', 'Good']"
      ]
     },
     "execution_count": 17,
     "metadata": {},
     "output_type": "execute_result"
    }
   ],
   "source": [
    "def filter_long_words(lst,n):\n",
    "    new_list = []\n",
    "    for i in lst:\n",
    "        if len(i)>n:\n",
    "            new_list.append(i)\n",
    "    return new_list\n",
    "        \n",
    "words = ['hello','hi','Namaste','Good']\n",
    "filtered_list = filter_long_words(words,3)\n",
    "filtered_list"
   ]
  },
  {
   "cell_type": "markdown",
   "metadata": {},
   "source": [
    "<p> <b> 2.1 Write a Python program using function concept that maps list of words into a list of integers\n",
    "representing the lengths of the corresponding words. </b> </p>\n",
    "<p> Hint: If a list [ ab,cde,erty] is passed on to the python function output should come as [2,3,4]\n",
    "Here 2,3 and 4 are the lengths of the words in the list. </p>"
   ]
  },
  {
   "cell_type": "code",
   "execution_count": 21,
   "metadata": {},
   "outputs": [
    {
     "data": {
      "text/plain": [
       "[5, 2, 7, 4]"
      ]
     },
     "execution_count": 21,
     "metadata": {},
     "output_type": "execute_result"
    }
   ],
   "source": [
    "def func_to_num(list):\n",
    "    return [len(i) for i in list]\n",
    "    \n",
    "words = ['hello','hi','Namaste','Good']\n",
    "func_to_num(words)"
   ]
  },
  {
   "cell_type": "markdown",
   "metadata": {},
   "source": [
    "<p> <b> 2.2 Write a Python function which takes a character (i.e. a string of length 1) and returns True if\n",
    "it is a vowel, False otherwise. </b> </p>"
   ]
  },
  {
   "cell_type": "code",
   "execution_count": 31,
   "metadata": {},
   "outputs": [
    {
     "name": "stdout",
     "output_type": "stream",
     "text": [
      "vowel check for 'E' :  True\n",
      "vowel check for 's' :  False\n",
      "vowel check for 'u' :  True\n",
      "vowel check for 'B' :  False\n"
     ]
    }
   ],
   "source": [
    "def is_vowel(char):\n",
    "    vowels = ['a','e','i','o','u']\n",
    "    if(char.lower() in vowels):\n",
    "        return True\n",
    "    else:\n",
    "        return False\n",
    "    \n",
    "print(\"vowel check for 'E' : \",is_vowel('E'))\n",
    "print(\"vowel check for 's' : \",is_vowel('s'))\n",
    "print(\"vowel check for 'u' : \",is_vowel('u'))\n",
    "print(\"vowel check for 'B' : \",is_vowel('B'))\n",
    "\n",
    "    "
   ]
  }
 ],
 "metadata": {
  "kernelspec": {
   "display_name": "Python 3",
   "language": "python",
   "name": "python3"
  },
  "language_info": {
   "codemirror_mode": {
    "name": "ipython",
    "version": 3
   },
   "file_extension": ".py",
   "mimetype": "text/x-python",
   "name": "python",
   "nbconvert_exporter": "python",
   "pygments_lexer": "ipython3",
   "version": "3.7.6"
  }
 },
 "nbformat": 4,
 "nbformat_minor": 4
}
