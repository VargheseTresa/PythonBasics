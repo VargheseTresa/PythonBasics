{
 "cells": [
  {
   "cell_type": "markdown",
   "metadata": {},
   "source": [
    "<h2 align=\"center\"> Exception handling Assignment <h2>\n",
    "<h4 align=\"right\">Submitted by </h4>\n",
    "<h5 align=\"right\">Tresa Varghese </h5>"
   ]
  },
  {
   "cell_type": "markdown",
   "metadata": {},
   "source": [
    "<b> Qn 1 \n",
    "Write a function to compute 5/0 and use try/except to catch the exceptions. </b>"
   ]
  },
  {
   "cell_type": "code",
   "execution_count": 5,
   "metadata": {},
   "outputs": [
    {
     "name": "stdout",
     "output_type": "stream",
     "text": [
      "Error:  division by zero\n"
     ]
    }
   ],
   "source": [
    "def compute(a,b):\n",
    "    try:\n",
    "        result = a/b\n",
    "        print(\"The result is %d\" %result)\n",
    "    except Exception as e:\n",
    "        print(\"Error: \", e)\n",
    "\n",
    "compute(5,0)\n",
    "#compute(5,2)"
   ]
  },
  {
   "cell_type": "markdown",
   "metadata": {},
   "source": [
    "<b> Qn 2 \n",
    "Implement a Python program to generate all sentences where subject is in\n",
    "[\"Americans\", \"Indians\"] and verb is in [\"Play\", \"watch\"] and the object is in\n",
    "[\"Baseball\",\"cricket\"]. </b>"
   ]
  },
  {
   "cell_type": "code",
   "execution_count": 14,
   "metadata": {},
   "outputs": [
    {
     "name": "stdout",
     "output_type": "stream",
     "text": [
      "Americans  play  Baseball.\n",
      "Americans  play  Cricket.\n",
      "Americans  watch  Baseball.\n",
      "Americans  watch  Cricket.\n",
      "Indians  play  Baseball.\n",
      "Indians  play  Cricket.\n",
      "Indians  watch  Baseball.\n",
      "Indians  watch  Cricket.\n"
     ]
    }
   ],
   "source": [
    "try:\n",
    "    subjects=[\"Americans \",\"Indians \"]\n",
    "    verbs=[\"play \",\"watch \"]\n",
    "    objects=[\"Baseball\",\"Cricket\"]\n",
    "\n",
    "    for i in subjects:\n",
    "        for j in verbs:\n",
    "            for k in objects:\n",
    "                print(i+' '+j+' '+k+'.')\n",
    "except Exception as e:\n",
    "    print(\"Error: \", e)"
   ]
  }
 ],
 "metadata": {
  "kernelspec": {
   "display_name": "Python 3",
   "language": "python",
   "name": "python3"
  },
  "language_info": {
   "codemirror_mode": {
    "name": "ipython",
    "version": 3
   },
   "file_extension": ".py",
   "mimetype": "text/x-python",
   "name": "python",
   "nbconvert_exporter": "python",
   "pygments_lexer": "ipython3",
   "version": "3.7.6"
  }
 },
 "nbformat": 4,
 "nbformat_minor": 4
}
